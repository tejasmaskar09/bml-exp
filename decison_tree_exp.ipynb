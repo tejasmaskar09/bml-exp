{
  "nbformat": 4,
  "nbformat_minor": 0,
  "metadata": {
    "colab": {
      "provenance": [],
      "authorship_tag": "ABX9TyNa7JkUDykobwmFUTBrbtmm",
      "include_colab_link": true
    },
    "kernelspec": {
      "name": "python3",
      "display_name": "Python 3"
    },
    "language_info": {
      "name": "python"
    }
  },
  "cells": [
    {
      "cell_type": "markdown",
      "metadata": {
        "id": "view-in-github",
        "colab_type": "text"
      },
      "source": [
        "<a href=\"https://colab.research.google.com/github/tejasmaskar09/bml-exp/blob/main/decison_tree_exp.ipynb\" target=\"_parent\"><img src=\"https://colab.research.google.com/assets/colab-badge.svg\" alt=\"Open In Colab\"/></a>"
      ]
    },
    {
      "cell_type": "code",
      "execution_count": 2,
      "metadata": {
        "colab": {
          "base_uri": "https://localhost:8080/"
        },
        "id": "R5y0uk3y1SUI",
        "outputId": "0a8ddd56-de41-4bc7-9e3d-f39322d58f0d"
      },
      "outputs": [
        {
          "output_type": "stream",
          "name": "stdout",
          "text": [
            "Decision Tree (Custom):\n",
            "{'Temperature': {'Hot': {'Outlook': {'Sunny': 'No', 'Overcast': 'Yes'}}, 'Mild': 'Yes', 'Cool': {'Wind': {'Weak': 'Yes', 'Strong': 'No'}}}}\n"
          ]
        }
      ],
      "source": [
        "import numpy as np\n",
        "import pandas as pd\n",
        "from collections import Counter\n",
        "\n",
        "# Entropy Calculation\n",
        "def entropy(y):\n",
        "    counts = Counter(y)\n",
        "    total = len(y)\n",
        "    return -sum((count/total) * np.log2(count/total) for count in counts.values())\n",
        "\n",
        "# Split Dataset\n",
        "def split_dataset(X, y, feature, value):\n",
        "    mask = X[feature] == value\n",
        "    return X[mask].drop(columns=[feature]), y[mask]\n",
        "\n",
        "# ID3 Recursive Algorithm\n",
        "def id3(X, y, features):\n",
        "    if len(set(y)) == 1:\n",
        "        return y.iloc[0]\n",
        "    if len(features) == 0:\n",
        "        return Counter(y).most_common(1)[0][0]\n",
        "\n",
        "    base_entropy = entropy(y)\n",
        "    best_info_gain = -1\n",
        "    best_feature = None\n",
        "\n",
        "    for feature in features:\n",
        "        values = X[feature].unique()\n",
        "        new_entropy = 0\n",
        "        for value in values:\n",
        "            sub_X, sub_y = split_dataset(X, y, feature, value)\n",
        "            prob = len(sub_y) / len(y)\n",
        "            new_entropy += prob * entropy(sub_y)\n",
        "        info_gain = base_entropy - new_entropy\n",
        "        if info_gain > best_info_gain:\n",
        "            best_info_gain = info_gain\n",
        "            best_feature = feature\n",
        "\n",
        "    if best_feature is None:\n",
        "        return Counter(y).most_common(1)[0][0]\n",
        "\n",
        "    tree = {best_feature: {}}\n",
        "    for value in X[best_feature].unique():\n",
        "        sub_X, sub_y = split_dataset(X, y, best_feature, value)\n",
        "        tree[best_feature][value] = id3(sub_X, sub_y, [f for f in features if f != best_feature])\n",
        "    return tree\n",
        "\n",
        "# Sample Dataset\n",
        "data = {\n",
        "    'Outlook': ['Sunny', 'Sunny', 'Overcast', 'Rain', 'Rain', 'Rain', 'Overcast', 'Sunny'],\n",
        "    'Temperature': ['Hot', 'Hot', 'Hot', 'Mild', 'Cool', 'Cool', 'Mild', 'Mild'],\n",
        "    'Humidity': ['High', 'High', 'High', 'High', 'Normal', 'Normal', 'High', 'Normal'],\n",
        "    'Wind': ['Weak', 'Strong', 'Weak', 'Weak', 'Weak', 'Strong', 'Strong', 'Weak'],\n",
        "    'PlayTennis': ['No', 'No', 'Yes', 'Yes', 'Yes', 'No', 'Yes', 'Yes']\n",
        "}\n",
        "\n",
        "df = pd.DataFrame(data)\n",
        "X = df.drop(columns=['PlayTennis'])\n",
        "y = df['PlayTennis']\n",
        "\n",
        "# Build the tree\n",
        "decision_tree = id3(X, y, list(X.columns))\n",
        "print(\"Decision Tree (Custom):\")\n",
        "print(decision_tree)\n"
      ]
    }
  ]
}